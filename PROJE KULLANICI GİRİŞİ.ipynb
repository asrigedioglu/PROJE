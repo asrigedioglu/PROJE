{
 "cells": [
  {
   "cell_type": "raw",
   "id": "45c41e76",
   "metadata": {},
   "source": [
    "Kullanıcı Girişi\n",
    "\n",
    "Hemen hemen her uygulamada çalıştırıldığında öncelikle kullanıcı girişinin yapılması istenir. Bu işlem KullanıcıAdı/Parola eşleşmesi sağlanarak gerçekleştirilir. Bunun basit bir versiyonunu yapmanızı istiyorum. Programınız en az aşağıdaki gereksinimleri karşılasın;\n",
    "\n",
    "1) Kullanıcı adı ve parola bilgilerini programın en başında bir dictionary içerisine kayıt ediniz. en az 3 kullanıcı hesabı olsun. (ör: {\"user1\":\"Password1\",\"user2\":\"Password2\",\"user3\":\"Password3\"})\n",
    "2) Küçük bir kaşılama mesajı sonrasından kullanıcı adı ve parola girişi istensin\n",
    "3) Hatalı giriş gerçekleşirse, duruma göre;\n",
    "    a) \"Böyle bir kullanıcı adı yoktur\"\n",
    "    b) \"Hatalı parola girdiniz\"\n",
    "    uyarıları gelsin ve program sonlansın.\n",
    "4) Doğrulama başarılı ise \"başarılı giriş yaptınız\" uyarısı gelsin ve program sonlansın.\n",
    "\n",
    "Yukarıdaki işlemleri yapan arkadaşlar arzu ederlerse programlarına aşağıdaki eklentileri de yapabilirler;\n",
    "\n",
    "5) Hatalı giriş sayısı 3 ile sınırlandırın. 3. den sonra program uyarı ile sonlansın.\n",
    "6) Başarılı giriş yapımış ise ekrana keyfinize göre bir menü gelsin. Menünün en üstünde girişi gerçekleştirilmiş kullanıcıdı belirtilsin. Menüdeki seçenekler için bir işlem yapılmasına gerek yok keyfinize kalmış. Basit matematik işlemleri koyabilirsiniz isterseniz. Ama en sonda \"çıkış için : q\" yazsın ve çıkış gerçekleşsin."
   ]
  },
  {
   "cell_type": "code",
   "execution_count": 2,
   "id": "b9c75635",
   "metadata": {},
   "outputs": [
    {
     "name": "stdout",
     "output_type": "stream",
     "text": [
      "Yaş hesaplama uygulamasına Hoşgediniz! Lütfen kullanıcı adınızı giriniz: emel\n",
      "Parola: ocak\n",
      "Parola yanlış. Lütfen tekrar giriniz.\n",
      "Yaş hesaplama uygulamasına Hoşgediniz! Lütfen kullanıcı adınızı giriniz: emel\n",
      "Parola: asr\n",
      "Parola yanlış. Lütfen tekrar giriniz.\n",
      "Yaş hesaplama uygulamasına Hoşgediniz! Lütfen kullanıcı adınızı giriniz: emel\n",
      "Parola: dd\n",
      "Parola yanlış. Lütfen tekrar giriniz.\n",
      "Maksimum 3 kere hatalı kullanıcı adı girebilirsiz. \n"
     ]
    }
   ],
   "source": [
    "import datetime\n",
    "\n",
    "users = {\"asrı\":\"ocak\",\"nezih\":\"eylül\",\"emel\":\"temmuz\",\"hayat\":\"ekim\",\"gülden\":\"aralık\",\"poyraz\":\"ekim\"}\n",
    "\n",
    "limit = 4\n",
    "count = 0\n",
    "\n",
    "while count < limit :\n",
    "    \n",
    "    user_id = input(\"Yaş hesaplama uygulamasına Hoşgediniz! Lütfen kullanıcı adınızı giriniz: \")\n",
    "    user_password = input(\"Parola: \")\n",
    "    \n",
    "    if user_id in users.keys() and user_password == users[user_id]:\n",
    "        print(\"Giriş başarılı\")\n",
    "                \n",
    "        birth_date = int(input(\"Doğum tarihinizi giriniz: \"))\n",
    "        current_date = datetime.datetime.now()\n",
    "        current_year = current_date.year\n",
    "        age = current_year - birth_date\n",
    "        print(f'Şuanda {age} yaşındasınız.')\n",
    "                \n",
    "        break\n",
    "                \n",
    "                \n",
    "    else:\n",
    "        count += 1\n",
    "        \n",
    "        if user_id in users.keys(): \n",
    "            print(\"Parola yanlış. Lütfen tekrar giriniz.\")\n",
    "        else:\n",
    "            print(\"Kullanıcı adı hatalı\")\n",
    "        \n",
    "        if count >= 3:\n",
    "                print(\"Maksimum 3 kere hatalı kullanıcı adı girebilirsiz. \")\n",
    "                break\n",
    "            \n",
    "        \n",
    "\n",
    "    \n"
   ]
  },
  {
   "cell_type": "code",
   "execution_count": null,
   "id": "3aec19c6",
   "metadata": {},
   "outputs": [],
   "source": [
    "\n"
   ]
  },
  {
   "cell_type": "code",
   "execution_count": null,
   "id": "8335dd2d",
   "metadata": {},
   "outputs": [],
   "source": []
  },
  {
   "cell_type": "code",
   "execution_count": null,
   "id": "322b3fa0",
   "metadata": {},
   "outputs": [],
   "source": []
  }
 ],
 "metadata": {
  "kernelspec": {
   "display_name": "Python 3 (ipykernel)",
   "language": "python",
   "name": "python3"
  },
  "language_info": {
   "codemirror_mode": {
    "name": "ipython",
    "version": 3
   },
   "file_extension": ".py",
   "mimetype": "text/x-python",
   "name": "python",
   "nbconvert_exporter": "python",
   "pygments_lexer": "ipython3",
   "version": "3.10.9"
  }
 },
 "nbformat": 4,
 "nbformat_minor": 5
}
