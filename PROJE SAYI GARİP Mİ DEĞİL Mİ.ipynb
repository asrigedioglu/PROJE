{
 "cells": [
  {
   "cell_type": "code",
   "execution_count": 1,
   "id": "ddad3589",
   "metadata": {},
   "outputs": [
    {
     "name": "stdout",
     "output_type": "stream",
     "text": [
      "\n",
      "**************\n",
      "\n",
      "Kullanıcıdan bir tam sayı istensin.\n",
      "Tam sayı aşağıdaki koşullara sahip ise 'Garip' ; değilse 'Garip Değil' yazsın.\n",
      "Tek sayı ise; 'Garip'\n",
      "Çift sayı ise ve 2-5 aralığında ise (2 ve 5 dahil); 'Garip Değil'\n",
      "Çift sayı ise ve 6-20 aralığında ise (6 ve 20 dahil); 'Garip'\n",
      "Çift sayı ise ve 20'den büyük ise (20 dahil değil); 'Garip Değil'\n",
      "\n",
      "**************\n",
      "\n",
      "Lütfen bir tam sayı giriniz: 9\n",
      "\n",
      "        Bu sayı tek sayıdır.\n",
      "        Garip\n"
     ]
    }
   ],
   "source": [
    "print(\"\"\"\n",
    "**************\n",
    "\n",
    "Kullanıcıdan bir tam sayı istensin.\n",
    "Tam sayı aşağıdaki koşullara sahip ise 'Garip' ; değilse 'Garip Değil' yazsın.\n",
    "Tek sayı ise; 'Garip'\n",
    "Çift sayı ise ve 2-5 aralığında ise (2 ve 5 dahil); 'Garip Değil'\n",
    "Çift sayı ise ve 6-20 aralığında ise (6 ve 20 dahil); 'Garip'\n",
    "Çift sayı ise ve 20'den büyük ise (20 dahil değil); 'Garip Değil'\n",
    "\n",
    "**************\n",
    "\"\"\")\n",
    "\n",
    "\n",
    "sayi = int(input(\"Lütfen bir tam sayı giriniz: \"))\n",
    "\n",
    "if sayi % 2 != 0 :\n",
    "    print(\"\"\"\n",
    "        Bu sayı tek sayıdır.\n",
    "        Garip\"\"\")\n",
    "else:\n",
    "    print(\"Bu sayı çift sayıdır.\")\n",
    "    if sayi>=2 and sayi<=5:\n",
    "        print(\"Garip Değil\")\n",
    "    elif sayi>=6 and sayi<=20:\n",
    "        print(\"Garip\")\n",
    "    elif sayi>20:\n",
    "        print(\"Garip Değil\")\n",
    "\n",
    "\n",
    "\n",
    "\n",
    "    "
   ]
  },
  {
   "cell_type": "code",
   "execution_count": null,
   "id": "b679eb38",
   "metadata": {},
   "outputs": [],
   "source": []
  },
  {
   "cell_type": "code",
   "execution_count": null,
   "id": "0ab25fdf",
   "metadata": {},
   "outputs": [],
   "source": []
  }
 ],
 "metadata": {
  "kernelspec": {
   "display_name": "Python 3 (ipykernel)",
   "language": "python",
   "name": "python3"
  },
  "language_info": {
   "codemirror_mode": {
    "name": "ipython",
    "version": 3
   },
   "file_extension": ".py",
   "mimetype": "text/x-python",
   "name": "python",
   "nbconvert_exporter": "python",
   "pygments_lexer": "ipython3",
   "version": "3.10.9"
  }
 },
 "nbformat": 4,
 "nbformat_minor": 5
}
