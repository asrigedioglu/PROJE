{
 "cells": [
  {
   "cell_type": "raw",
   "id": "90f16a0f",
   "metadata": {},
   "source": [
    "1- TC Kimlik No 11 karakter olmak zorunda\n",
    "2- Her hanesi bir rakam olmalıdır.\n",
    "3- İlk hanesi 0 olamaz.\n",
    "4- 1,3,5,7,9 basamaklarının toplamının 7 katında 2,4,6,8 basamaklarının toplamını çıkarttığımızda elde ettiğimiz sonucun 10'a bölümünden kalan sayı (MOD10) 10.basamaktaki sayıyı verir.\n",
    "5- İlk 10 hanenin toplamından sonucun 10'a bölümünden kalan sayı 11.basamaktaki sayıyı verir.\n",
    "\n",
    "#Bu 5 şarttan biri tutmuyor ise TC Kimlik No doğru değildir."
   ]
  },
  {
   "cell_type": "code",
   "execution_count": 1,
   "id": "0aa80e42",
   "metadata": {},
   "outputs": [],
   "source": [
    "import math"
   ]
  },
  {
   "cell_type": "code",
   "execution_count": 1,
   "id": "c242a4c6",
   "metadata": {},
   "outputs": [
    {
     "name": "stdout",
     "output_type": "stream",
     "text": [
      "Lütfen TC kimlik Numaranızı giriniz: 22487645874\n",
      "✓ TC KİMLİK NO 11 HANELİ\n",
      "✓ TC KİMLİK NO İLK BASAMAK 0 DEĞİL\n",
      "!! TC KİMLİK NO'NUN 9.BASAMAKTAKİ SAYISI DOĞRU DEĞİL !! \n"
     ]
    },
    {
     "ename": "KeyboardInterrupt",
     "evalue": "Interrupted by user",
     "output_type": "error",
     "traceback": [
      "\u001b[1;31m---------------------------------------------------------------------------\u001b[0m",
      "\u001b[1;31mKeyboardInterrupt\u001b[0m                         Traceback (most recent call last)",
      "Cell \u001b[1;32mIn[1], line 7\u001b[0m\n\u001b[0;32m      3\u001b[0m ilk_on \u001b[38;5;241m=\u001b[39m [\u001b[38;5;241m0\u001b[39m,\u001b[38;5;241m1\u001b[39m,\u001b[38;5;241m2\u001b[39m,\u001b[38;5;241m3\u001b[39m,\u001b[38;5;241m4\u001b[39m,\u001b[38;5;241m5\u001b[39m,\u001b[38;5;241m6\u001b[39m,\u001b[38;5;241m7\u001b[39m,\u001b[38;5;241m8\u001b[39m,\u001b[38;5;241m9\u001b[39m]\n\u001b[0;32m      5\u001b[0m \u001b[38;5;28;01mwhile\u001b[39;00m \u001b[38;5;28;01mTrue\u001b[39;00m:\n\u001b[1;32m----> 7\u001b[0m     tc_kimlik \u001b[38;5;241m=\u001b[39m \u001b[38;5;28;43minput\u001b[39;49m\u001b[43m(\u001b[49m\u001b[38;5;124;43m\"\u001b[39;49m\u001b[38;5;124;43mLütfen TC kimlik Numaranızı giriniz: \u001b[39;49m\u001b[38;5;124;43m\"\u001b[39;49m\u001b[43m)\u001b[49m\n\u001b[0;32m      9\u001b[0m     \u001b[38;5;28;01mif\u001b[39;00m \u001b[38;5;28mlen\u001b[39m(tc_kimlik) \u001b[38;5;241m==\u001b[39m \u001b[38;5;241m11\u001b[39m:\n\u001b[0;32m     10\u001b[0m         \u001b[38;5;28mprint\u001b[39m(\u001b[38;5;124m\"\u001b[39m\u001b[38;5;124m✓ TC KİMLİK NO 11 HANELİ\u001b[39m\u001b[38;5;124m\"\u001b[39m)\n",
      "File \u001b[1;32m~\\AppData\\Local\\anaconda3\\lib\\site-packages\\ipykernel\\kernelbase.py:1202\u001b[0m, in \u001b[0;36mKernel.raw_input\u001b[1;34m(self, prompt)\u001b[0m\n\u001b[0;32m   1200\u001b[0m     msg \u001b[38;5;241m=\u001b[39m \u001b[38;5;124m\"\u001b[39m\u001b[38;5;124mraw_input was called, but this frontend does not support input requests.\u001b[39m\u001b[38;5;124m\"\u001b[39m\n\u001b[0;32m   1201\u001b[0m     \u001b[38;5;28;01mraise\u001b[39;00m StdinNotImplementedError(msg)\n\u001b[1;32m-> 1202\u001b[0m \u001b[38;5;28;01mreturn\u001b[39;00m \u001b[38;5;28;43mself\u001b[39;49m\u001b[38;5;241;43m.\u001b[39;49m\u001b[43m_input_request\u001b[49m\u001b[43m(\u001b[49m\n\u001b[0;32m   1203\u001b[0m \u001b[43m    \u001b[49m\u001b[38;5;28;43mstr\u001b[39;49m\u001b[43m(\u001b[49m\u001b[43mprompt\u001b[49m\u001b[43m)\u001b[49m\u001b[43m,\u001b[49m\n\u001b[0;32m   1204\u001b[0m \u001b[43m    \u001b[49m\u001b[38;5;28;43mself\u001b[39;49m\u001b[38;5;241;43m.\u001b[39;49m\u001b[43m_parent_ident\u001b[49m\u001b[43m[\u001b[49m\u001b[38;5;124;43m\"\u001b[39;49m\u001b[38;5;124;43mshell\u001b[39;49m\u001b[38;5;124;43m\"\u001b[39;49m\u001b[43m]\u001b[49m\u001b[43m,\u001b[49m\n\u001b[0;32m   1205\u001b[0m \u001b[43m    \u001b[49m\u001b[38;5;28;43mself\u001b[39;49m\u001b[38;5;241;43m.\u001b[39;49m\u001b[43mget_parent\u001b[49m\u001b[43m(\u001b[49m\u001b[38;5;124;43m\"\u001b[39;49m\u001b[38;5;124;43mshell\u001b[39;49m\u001b[38;5;124;43m\"\u001b[39;49m\u001b[43m)\u001b[49m\u001b[43m,\u001b[49m\n\u001b[0;32m   1206\u001b[0m \u001b[43m    \u001b[49m\u001b[43mpassword\u001b[49m\u001b[38;5;241;43m=\u001b[39;49m\u001b[38;5;28;43;01mFalse\u001b[39;49;00m\u001b[43m,\u001b[49m\n\u001b[0;32m   1207\u001b[0m \u001b[43m\u001b[49m\u001b[43m)\u001b[49m\n",
      "File \u001b[1;32m~\\AppData\\Local\\anaconda3\\lib\\site-packages\\ipykernel\\kernelbase.py:1245\u001b[0m, in \u001b[0;36mKernel._input_request\u001b[1;34m(self, prompt, ident, parent, password)\u001b[0m\n\u001b[0;32m   1242\u001b[0m \u001b[38;5;28;01mexcept\u001b[39;00m \u001b[38;5;167;01mKeyboardInterrupt\u001b[39;00m:\n\u001b[0;32m   1243\u001b[0m     \u001b[38;5;66;03m# re-raise KeyboardInterrupt, to truncate traceback\u001b[39;00m\n\u001b[0;32m   1244\u001b[0m     msg \u001b[38;5;241m=\u001b[39m \u001b[38;5;124m\"\u001b[39m\u001b[38;5;124mInterrupted by user\u001b[39m\u001b[38;5;124m\"\u001b[39m\n\u001b[1;32m-> 1245\u001b[0m     \u001b[38;5;28;01mraise\u001b[39;00m \u001b[38;5;167;01mKeyboardInterrupt\u001b[39;00m(msg) \u001b[38;5;28;01mfrom\u001b[39;00m \u001b[38;5;28;01mNone\u001b[39;00m\n\u001b[0;32m   1246\u001b[0m \u001b[38;5;28;01mexcept\u001b[39;00m \u001b[38;5;167;01mException\u001b[39;00m:\n\u001b[0;32m   1247\u001b[0m     \u001b[38;5;28mself\u001b[39m\u001b[38;5;241m.\u001b[39mlog\u001b[38;5;241m.\u001b[39mwarning(\u001b[38;5;124m\"\u001b[39m\u001b[38;5;124mInvalid Message:\u001b[39m\u001b[38;5;124m\"\u001b[39m, exc_info\u001b[38;5;241m=\u001b[39m\u001b[38;5;28;01mTrue\u001b[39;00m)\n",
      "\u001b[1;31mKeyboardInterrupt\u001b[0m: Interrupted by user"
     ]
    }
   ],
   "source": [
    "tek_indexler = [0,2,4,6,8]\n",
    "cift_indexler = [1,3,5,7]\n",
    "ilk_on = [0,1,2,3,4,5,6,7,8,9]\n",
    "\n",
    "while True:\n",
    "\n",
    "    tc_kimlik = input(\"Lütfen TC kimlik Numaranızı giriniz: \")\n",
    "\n",
    "    if len(tc_kimlik) == 11:\n",
    "        print(\"✓ TC KİMLİK NO 11 HANELİ\")\n",
    "\n",
    "        if int(tc_kimlik[0]) != 0:\n",
    "            print(\"✓ TC KİMLİK NO İLK BASAMAK 0 DEĞİL\")\n",
    "\n",
    "            tek_toplam = 0 \n",
    "            cift_toplam = 0\n",
    "            ilk_on_toplam = 0\n",
    "\n",
    "            for t in tek_indexler:\n",
    "                tek_toplam += int(tc_kimlik[t])\n",
    "\n",
    "            for c in cift_indexler:\n",
    "                cift_toplam += int(tc_kimlik[c])\n",
    "\n",
    "            for on in ilk_on:\n",
    "                ilk_on_toplam += int(tc_kimlik[on])\n",
    "\n",
    "            if ((tek_toplam*7) - cift_toplam) % 10 == int(tc_kimlik[9]):\n",
    "                print(f'Tc kimlik no 10.hanesi: {tc_kimlik[9]}')\n",
    "                print(\"✓ TC KİMLİK NO 10.BASAMAK DOĞRU\")\n",
    "\n",
    "                if ilk_on_toplam % 10 == int(tc_kimlik[10]):\n",
    "                    print(f'Tc kimlik no 11. hanesi: {tc_kimlik[10]}')\n",
    "                    print(\"✓ TC KİMLİK NO 11.BASAMAK DOĞRU\")\n",
    "                    print(\"\"\"************************\n",
    "                    ✓✓ TC KİMLİK NO DOĞRUDUR\"\"\")  \n",
    "                    \n",
    "                    break\n",
    "                \n",
    "                else:\n",
    "                    print(\"!! TC KİMLİK NO 11.BASAMAK HATALIDIR !!\")        \n",
    "            else:\n",
    "                print(\"!! TC KİMLİK NO'NUN 9.BASAMAKTAKİ SAYISI DOĞRU DEĞİL !! \")     \n",
    "        else:\n",
    "            print(\"!! İLK RAKAM 0 !!\")\n",
    "            \n",
    "    else:\n",
    "        print(\"!! TC KİMLİK NO 11 HANELİ DEĞİLDİR !! \")\n",
    "        \n",
    "    \n",
    "                \n",
    "        "
   ]
  },
  {
   "cell_type": "code",
   "execution_count": null,
   "id": "b658ab6e",
   "metadata": {},
   "outputs": [],
   "source": []
  },
  {
   "cell_type": "code",
   "execution_count": null,
   "id": "4eedcf76",
   "metadata": {},
   "outputs": [],
   "source": []
  }
 ],
 "metadata": {
  "kernelspec": {
   "display_name": "Python 3 (ipykernel)",
   "language": "python",
   "name": "python3"
  },
  "language_info": {
   "codemirror_mode": {
    "name": "ipython",
    "version": 3
   },
   "file_extension": ".py",
   "mimetype": "text/x-python",
   "name": "python",
   "nbconvert_exporter": "python",
   "pygments_lexer": "ipython3",
   "version": "3.10.9"
  }
 },
 "nbformat": 4,
 "nbformat_minor": 5
}
