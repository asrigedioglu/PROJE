{
 "cells": [
  {
   "cell_type": "raw",
   "id": "78d3cf70",
   "metadata": {},
   "source": [
    "puan > 80      A \n",
    "60 < puan =< 80 C\n",
    "40 < puan < c \n",
    "20 < puan < D\n",
    "puan < 20 E\n"
   ]
  },
  {
   "cell_type": "code",
   "execution_count": 12,
   "id": "62a46316",
   "metadata": {},
   "outputs": [
    {
     "name": "stdout",
     "output_type": "stream",
     "text": [
      "\n",
      "Bu program öğrenci notunun harfdilimine yuvarlanmasıdır.\n",
      "      \n",
      "Lütfen aldığınız puanı giriniz: 34,5\n",
      "Virgül kullanımı 2. index\"te yer alır.\n",
      "Girdiğiniz puan: 34.5\n",
      "Veri doğrulaması başarılı...\n",
      "Öğrenci harf notu : D\n"
     ]
    }
   ],
   "source": [
    "print(\"\"\"\n",
    "Bu program öğrenci notunun harfdilimine yuvarlanmasıdır.\n",
    "      \"\"\")\n",
    "\n",
    "str_puan  = input(\"Lütfen aldığınız puanı giriniz: \")\n",
    "\n",
    "if \",\" in str_puan :\n",
    "    print(f'Virgül kullanımı {str_puan.find(\",\")}. index\"te yer alır.')\n",
    "    str_puan = str_puan.replace(\",\",\".\")\n",
    "    puan = float(str_puan)\n",
    "    print(f'Girdiğiniz puan: {puan}')\n",
    "    \n",
    "else:\n",
    "    print(\"Girdiniz sorunsuz ilerliyor.\")\n",
    "              \n",
    "if 0<=puan and puan<=100:\n",
    "    print(\"Veri doğrulaması başarılı...\")\n",
    "\n",
    "    if puan > 80:\n",
    "            print(\"Öğrenci harf notu : A\")\n",
    "    elif 60 < puan:\n",
    "            print(\"Öğrenci harf notu : B\")\n",
    "    elif 40 < puan:\n",
    "            print(\"Öğrenci harf notu : C\")\n",
    "    elif 20 < puan:\n",
    "            print(\"Öğrenci harf notu : D\")\n",
    "    elif 0 < puan:\n",
    "            print(\"Öğrenci harf notu : E\")\n",
    "\n",
    "else:\n",
    "    print(\"Hatalı giriş yaptınız\")\n",
    "\n",
    "    "
   ]
  },
  {
   "cell_type": "code",
   "execution_count": null,
   "id": "dd3447f0",
   "metadata": {},
   "outputs": [
    {
     "name": "stdout",
     "output_type": "stream",
     "text": [
      "Lütfen aldığınız puanı giriniz: 56\n",
      "Veri doğrulaması başarılı...\n",
      "Öğrenci harf notu : C\n"
     ]
    }
   ],
   "source": [
    "# While True ile sürekli bir döngü yaratılır.\n",
    "    \n",
    "while True:\n",
    "    puan  = float(input(\"Lütfen aldığınız puanı giriniz: \"))\n",
    "\n",
    "    if puan > 100:\n",
    "        print(\"uygulamadan çıkıyorsunuz\")\n",
    "        break\n",
    "        \n",
    "    else:        \n",
    "        if 0<=puan and puan<=100:\n",
    "            print(\"Veri doğrulaması başarılı...\")\n",
    "\n",
    "            if puan > 80:\n",
    "                    print(\"Öğrenci harf notu : A\")\n",
    "            elif 60 < puan:\n",
    "                    print(\"Öğrenci harf notu : B\")\n",
    "            elif 40 < puan:\n",
    "                    print(\"Öğrenci harf notu : C\")\n",
    "            elif 20 < puan:\n",
    "                    print(\"Öğrenci harf notu : D\")\n",
    "            elif 0 < puan:\n",
    "                    print(\"Öğrenci harf notu : E\")\n",
    "\n",
    "        \n",
    "\n"
   ]
  },
  {
   "cell_type": "code",
   "execution_count": null,
   "id": "fcba8e17",
   "metadata": {},
   "outputs": [],
   "source": []
  },
  {
   "cell_type": "code",
   "execution_count": null,
   "id": "ce774a0b",
   "metadata": {},
   "outputs": [],
   "source": []
  },
  {
   "cell_type": "code",
   "execution_count": null,
   "id": "81f58b66",
   "metadata": {},
   "outputs": [],
   "source": []
  }
 ],
 "metadata": {
  "kernelspec": {
   "display_name": "Python 3 (ipykernel)",
   "language": "python",
   "name": "python3"
  },
  "language_info": {
   "codemirror_mode": {
    "name": "ipython",
    "version": 3
   },
   "file_extension": ".py",
   "mimetype": "text/x-python",
   "name": "python",
   "nbconvert_exporter": "python",
   "pygments_lexer": "ipython3",
   "version": "3.10.9"
  }
 },
 "nbformat": 4,
 "nbformat_minor": 5
}
